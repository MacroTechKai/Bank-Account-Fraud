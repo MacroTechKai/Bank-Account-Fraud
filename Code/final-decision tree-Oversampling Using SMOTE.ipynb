{
 "cells": [
  {
   "cell_type": "code",
   "execution_count": 104,
   "id": "05004e90",
   "metadata": {},
   "outputs": [],
   "source": [
    "import numpy as np\n",
    "import pandas as pd\n",
    "import matplotlib.pyplot as plt\n",
    "from sklearn.metrics import accuracy_score\n",
    "from sklearn.preprocessing import OneHotEncoder\n",
    "from sklearn.tree import DecisionTreeClassifier\n",
    "from sklearn.ensemble import RandomForestClassifier\n",
    "from sklearn.linear_model import LogisticRegression\n",
    "from sklearn.model_selection import train_test_split\n",
    "from sklearn.metrics import confusion_matrix, precision_score, recall_score, f1_score, roc_curve, auc, roc_auc_score\n",
    "from sklearn.preprocessing import StandardScaler\n",
    "from imblearn.over_sampling import SMOTE\n",
    "from sklearn.metrics import matthews_corrcoef\n",
    "import time"
   ]
  },
  {
   "cell_type": "code",
   "execution_count": 105,
   "id": "a186c04f",
   "metadata": {},
   "outputs": [],
   "source": [
    "df = pd.read_csv('base.csv')"
   ]
  },
  {
   "cell_type": "code",
   "execution_count": 106,
   "id": "d336cee4",
   "metadata": {},
   "outputs": [],
   "source": [
    "# df.info()"
   ]
  },
  {
   "cell_type": "code",
   "execution_count": 107,
   "id": "c3a8d0bf",
   "metadata": {},
   "outputs": [
    {
     "name": "stdout",
     "output_type": "stream",
     "text": [
      "0    1000000\n",
      "Name: device_fraud_count, dtype: int64\n"
     ]
    }
   ],
   "source": [
    "print(df['device_fraud_count'].value_counts())"
   ]
  },
  {
   "cell_type": "code",
   "execution_count": 108,
   "id": "d3317929",
   "metadata": {},
   "outputs": [],
   "source": [
    "# check attribute: \"device_fraud_count\", just has one value, so drop this column\n",
    "df = df.drop(['device_fraud_count'], axis=1, errors='ignore') "
   ]
  },
  {
   "cell_type": "code",
   "execution_count": 109,
   "id": "84ed2dd1",
   "metadata": {},
   "outputs": [
    {
     "data": {
      "text/plain": [
       "0    988971\n",
       "1     11029\n",
       "Name: fraud_bool, dtype: int64"
      ]
     },
     "execution_count": 109,
     "metadata": {},
     "output_type": "execute_result"
    }
   ],
   "source": [
    "# check the imbalanced data classes, so this is a highly imbalanced dataset\n",
    "df['fraud_bool'].value_counts()"
   ]
  },
  {
   "cell_type": "code",
   "execution_count": 110,
   "id": "9cc19a34",
   "metadata": {},
   "outputs": [],
   "source": [
    "# before any pre-processing technologies, I do train-test split. I did splitting after imputation in the old version\n",
    "# Should do spliting before any pre-processing to prevent from any info leakage"
   ]
  },
  {
   "cell_type": "code",
   "execution_count": 111,
   "id": "a48685c2",
   "metadata": {},
   "outputs": [],
   "source": [
    "### split data into target y and attributes X\n",
    "y = df['fraud_bool']\n",
    "X = df.drop(['fraud_bool'], axis=1)"
   ]
  },
  {
   "cell_type": "code",
   "execution_count": 112,
   "id": "8d041682",
   "metadata": {},
   "outputs": [],
   "source": [
    "# train-test split by \"month\", month 0-5 are training, month 6 and 7 are test\n",
    "y_train = y[X['month']<6]\n",
    "y_test = y[X['month']>=6]\n",
    "X_train = X[X['month']<6]\n",
    "X_test = X[X['month']>=6]"
   ]
  },
  {
   "cell_type": "code",
   "execution_count": 113,
   "id": "373b458c",
   "metadata": {},
   "outputs": [
    {
     "data": {
      "text/plain": [
       "794989"
      ]
     },
     "execution_count": 113,
     "metadata": {},
     "output_type": "execute_result"
    }
   ],
   "source": [
    "train_count = X_train['month'].value_counts().sum()\n",
    "train_count"
   ]
  },
  {
   "cell_type": "code",
   "execution_count": 114,
   "id": "dc9fea38",
   "metadata": {},
   "outputs": [
    {
     "data": {
      "text/plain": [
       "205011"
      ]
     },
     "execution_count": 114,
     "metadata": {},
     "output_type": "execute_result"
    }
   ],
   "source": [
    "test_count = X_test['month'].value_counts().sum()\n",
    "test_count"
   ]
  },
  {
   "cell_type": "code",
   "execution_count": 115,
   "id": "bcf3f411",
   "metadata": {},
   "outputs": [],
   "source": [
    "# X_train['velocity_6h'].isnull().sum()"
   ]
  },
  {
   "cell_type": "code",
   "execution_count": 116,
   "id": "3cabb6cf",
   "metadata": {},
   "outputs": [],
   "source": [
    "# Do pre-processing on training set"
   ]
  },
  {
   "cell_type": "code",
   "execution_count": 117,
   "id": "23a1be1a",
   "metadata": {},
   "outputs": [],
   "source": [
    "# 1. Data cleaning: Dealing with missing value"
   ]
  },
  {
   "cell_type": "code",
   "execution_count": 118,
   "id": "c4a318bc",
   "metadata": {},
   "outputs": [
    {
     "data": {
      "text/plain": [
       "0.7150073774605686"
      ]
     },
     "execution_count": 118,
     "metadata": {},
     "output_type": "execute_result"
    }
   ],
   "source": [
    "# check attribute: 'prev_address_months_count'\n",
    "X_train['prev_address_months_count'].value_counts()[-1] / train_count"
   ]
  },
  {
   "cell_type": "code",
   "execution_count": 119,
   "id": "a3dfae5d",
   "metadata": {},
   "outputs": [],
   "source": [
    "# -1 means a missing value and there are about 71% missing, so I drop this feature\n",
    "X_train = X_train.drop(['prev_address_months_count'], axis=1, errors='ignore')"
   ]
  },
  {
   "cell_type": "code",
   "execution_count": 120,
   "id": "bf818801",
   "metadata": {},
   "outputs": [
    {
     "data": {
      "text/plain": [
       "0.7370013924720971"
      ]
     },
     "execution_count": 120,
     "metadata": {},
     "output_type": "execute_result"
    }
   ],
   "source": [
    "# check attribute: 'intended_balcon_amount', negatives are missing values\n",
    "(X_train['intended_balcon_amount'] < 0).sum() / train_count"
   ]
  },
  {
   "cell_type": "code",
   "execution_count": 121,
   "id": "1f8eef37",
   "metadata": {},
   "outputs": [],
   "source": [
    "# because negatives are about 74%, so I drop this feature\n",
    "X_train = X_train.drop(['intended_balcon_amount'], axis=1, errors='ignore')"
   ]
  },
  {
   "cell_type": "code",
   "execution_count": 122,
   "id": "3819c0db",
   "metadata": {},
   "outputs": [
    {
     "data": {
      "text/plain": [
       "0.0038075998535828798"
      ]
     },
     "execution_count": 122,
     "metadata": {},
     "output_type": "execute_result"
    }
   ],
   "source": [
    "# check attribute: \"current_address_months_count\"\n",
    "X_train['current_address_months_count'].value_counts()[-1] / train_count"
   ]
  },
  {
   "cell_type": "code",
   "execution_count": 123,
   "id": "dddfd4f8",
   "metadata": {},
   "outputs": [],
   "source": [
    "# handle imputation of missing values in a time series dataset while avoiding future data leakage"
   ]
  },
  {
   "cell_type": "code",
   "execution_count": 124,
   "id": "f062fee6",
   "metadata": {},
   "outputs": [
    {
     "name": "stdout",
     "output_type": "stream",
     "text": [
      "49.0\n",
      "count    794989.000000\n",
      "mean         88.295121\n",
      "std          89.754507\n",
      "min           0.000000\n",
      "25%          21.000000\n",
      "50%          53.000000\n",
      "75%         132.000000\n",
      "max         425.000000\n",
      "Name: current_address_months_count, dtype: float64\n"
     ]
    }
   ],
   "source": [
    "# impute \"current_address_months_count\", -1 means a missing value, 0.4% in total, right skewed so use median\n",
    "median_value1 = X_train[(X_train['current_address_months_count'] != -1) & (X_train['month'] == 0)]['current_address_months_count'].median()\n",
    "print(median_value1)\n",
    "# Replace -1 with the median\n",
    "X_train.loc[X_train['current_address_months_count'] == -1, 'current_address_months_count'] = median_value1\n",
    "print(X_train['current_address_months_count'].describe())"
   ]
  },
  {
   "cell_type": "code",
   "execution_count": 125,
   "id": "ffefab1b",
   "metadata": {},
   "outputs": [
    {
     "data": {
      "text/plain": [
       "0.2510085045201883"
      ]
     },
     "execution_count": 125,
     "metadata": {},
     "output_type": "execute_result"
    }
   ],
   "source": [
    "# check attribute: \"bank_months_count\"\n",
    "X_train['bank_months_count'].value_counts()[-1] / train_count"
   ]
  },
  {
   "cell_type": "code",
   "execution_count": 126,
   "id": "406e42a3",
   "metadata": {},
   "outputs": [
    {
     "name": "stdout",
     "output_type": "stream",
     "text": [
      "15.0\n",
      "count    794989.000000\n",
      "mean         14.934764\n",
      "std           9.973376\n",
      "min           1.000000\n",
      "25%           5.000000\n",
      "50%          15.000000\n",
      "75%          25.000000\n",
      "max          32.000000\n",
      "Name: bank_months_count, dtype: float64\n"
     ]
    }
   ],
   "source": [
    "# impute \"bank_months_count\", -1 means a missing value, 25% in total, right skewed so use median\n",
    "median_value2 = X_train[(X_train['bank_months_count'] != -1) & (X_train['month'] == 0)]['bank_months_count'].median()\n",
    "print(median_value2)\n",
    "# Replace -1 with the median\n",
    "X_train.loc[df['bank_months_count'] == -1, 'bank_months_count'] = median_value2\n",
    "print(X_train['bank_months_count'].describe())"
   ]
  },
  {
   "cell_type": "code",
   "execution_count": 127,
   "id": "bd42c90c",
   "metadata": {},
   "outputs": [
    {
     "data": {
      "text/plain": [
       "0.001903170987271522"
      ]
     },
     "execution_count": 127,
     "metadata": {},
     "output_type": "execute_result"
    }
   ],
   "source": [
    "# check attribute: \"session_length_in_minutes\"\n",
    "X_train['session_length_in_minutes'].value_counts()[-1] / train_count"
   ]
  },
  {
   "cell_type": "code",
   "execution_count": 128,
   "id": "0e75a768",
   "metadata": {},
   "outputs": [
    {
     "name": "stdout",
     "output_type": "stream",
     "text": [
      "5.44\n",
      "count    794989.000000\n",
      "mean          7.742919\n",
      "std           8.165819\n",
      "min           0.003262\n",
      "25%           3.264237\n",
      "50%           5.246147\n",
      "75%           9.008757\n",
      "max          85.899143\n",
      "Name: session_length_in_minutes, dtype: float64\n"
     ]
    }
   ],
   "source": [
    "# impute \"session_length_in_minutes\", -1 means a missing value, 0.2% in total, right skewed so use median\n",
    "median_value3 = X_train[(X_train['session_length_in_minutes'] != -1) & (X_train['month'] == 0)]['session_length_in_minutes'].median()\n",
    "print(round(median_value3,2))\n",
    "# Replace -1 with the median\n",
    "X_train.loc[X_train['session_length_in_minutes'] == -1, 'session_length_in_minutes'] = median_value3\n",
    "print(X_train['session_length_in_minutes'].describe())"
   ]
  },
  {
   "cell_type": "code",
   "execution_count": 129,
   "id": "29055152",
   "metadata": {},
   "outputs": [
    {
     "data": {
      "text/plain": [
       "0.0003886846233092533"
      ]
     },
     "execution_count": 129,
     "metadata": {},
     "output_type": "execute_result"
    }
   ],
   "source": [
    "# check attribute: \"device_distinct_emails_8w\"\n",
    "X_train['device_distinct_emails_8w'].value_counts()[-1] / train_count"
   ]
  },
  {
   "cell_type": "code",
   "execution_count": 130,
   "id": "60be2b52",
   "metadata": {},
   "outputs": [
    {
     "name": "stdout",
     "output_type": "stream",
     "text": [
      "1\n"
     ]
    },
    {
     "data": {
      "text/plain": [
       "count    794989.000000\n",
       "mean          1.021575\n",
       "std           0.186475\n",
       "min           0.000000\n",
       "25%           1.000000\n",
       "50%           1.000000\n",
       "75%           1.000000\n",
       "max           2.000000\n",
       "Name: device_distinct_emails_8w, dtype: float64"
      ]
     },
     "execution_count": 130,
     "metadata": {},
     "output_type": "execute_result"
    }
   ],
   "source": [
    "# impute \"device_distinct_emails_8w\", -1 means a missing value, 0.04% in total, because of categorical, so use mode\n",
    "mode_value1 = X_train[(X_train['month'] == 0)]['device_distinct_emails_8w'].mode()[0]\n",
    "print(mode_value1)\n",
    "X_train['device_distinct_emails_8w'].replace(-1, mode_value1, inplace=True)\n",
    "X_train['device_distinct_emails_8w'].describe()"
   ]
  },
  {
   "cell_type": "code",
   "execution_count": 131,
   "id": "a4bf0717",
   "metadata": {
    "scrolled": false
   },
   "outputs": [],
   "source": [
    "# X_train.info()"
   ]
  },
  {
   "cell_type": "code",
   "execution_count": 132,
   "id": "95dab66b",
   "metadata": {},
   "outputs": [],
   "source": [
    "# X_train['income'].describe()"
   ]
  },
  {
   "cell_type": "code",
   "execution_count": 133,
   "id": "9f09546e",
   "metadata": {},
   "outputs": [],
   "source": [
    "# convert wrong numerical data to categorical data\n",
    "convert_dtype = ['email_is_free', 'phone_home_valid', 'phone_mobile_valid', 'has_other_cards', 'foreign_request', \n",
    "                 'keep_alive_session','device_distinct_emails_8w']\n",
    "X_train[convert_dtype] = X_train[convert_dtype].astype('category')"
   ]
  },
  {
   "cell_type": "code",
   "execution_count": 134,
   "id": "82555f5d",
   "metadata": {
    "scrolled": true
   },
   "outputs": [
    {
     "name": "stdout",
     "output_type": "stream",
     "text": [
      "<class 'pandas.core.frame.DataFrame'>\n",
      "Int64Index: 794989 entries, 96843 to 999999\n",
      "Data columns (total 28 columns):\n",
      " #   Column                            Non-Null Count   Dtype   \n",
      "---  ------                            --------------   -----   \n",
      " 0   income                            794989 non-null  float64 \n",
      " 1   name_email_similarity             794989 non-null  float64 \n",
      " 2   current_address_months_count      794989 non-null  int64   \n",
      " 3   customer_age                      794989 non-null  int64   \n",
      " 4   days_since_request                794989 non-null  float64 \n",
      " 5   payment_type                      794989 non-null  object  \n",
      " 6   zip_count_4w                      794989 non-null  int64   \n",
      " 7   velocity_6h                       794989 non-null  float64 \n",
      " 8   velocity_24h                      794989 non-null  float64 \n",
      " 9   velocity_4w                       794989 non-null  float64 \n",
      " 10  bank_branch_count_8w              794989 non-null  int64   \n",
      " 11  date_of_birth_distinct_emails_4w  794989 non-null  int64   \n",
      " 12  employment_status                 794989 non-null  object  \n",
      " 13  credit_risk_score                 794989 non-null  int64   \n",
      " 14  email_is_free                     794989 non-null  category\n",
      " 15  housing_status                    794989 non-null  object  \n",
      " 16  phone_home_valid                  794989 non-null  category\n",
      " 17  phone_mobile_valid                794989 non-null  category\n",
      " 18  bank_months_count                 794989 non-null  int64   \n",
      " 19  has_other_cards                   794989 non-null  category\n",
      " 20  proposed_credit_limit             794989 non-null  float64 \n",
      " 21  foreign_request                   794989 non-null  category\n",
      " 22  source                            794989 non-null  object  \n",
      " 23  session_length_in_minutes         794989 non-null  float64 \n",
      " 24  device_os                         794989 non-null  object  \n",
      " 25  keep_alive_session                794989 non-null  category\n",
      " 26  device_distinct_emails_8w         794989 non-null  category\n",
      " 27  month                             794989 non-null  int64   \n",
      "dtypes: category(7), float64(8), int64(8), object(5)\n",
      "memory usage: 138.7+ MB\n"
     ]
    }
   ],
   "source": [
    "X_train.info()"
   ]
  },
  {
   "cell_type": "code",
   "execution_count": 135,
   "id": "aeeef5dd",
   "metadata": {},
   "outputs": [
    {
     "data": {
      "text/plain": [
       "count    794989.000000\n",
       "mean       6148.453005\n",
       "std        3013.664048\n",
       "min        -130.456928\n",
       "25%        3971.401783\n",
       "50%        5961.190608\n",
       "75%        8113.534146\n",
       "max       16715.565404\n",
       "Name: velocity_6h, dtype: float64"
      ]
     },
     "execution_count": 135,
     "metadata": {},
     "output_type": "execute_result"
    }
   ],
   "source": [
    "X_train['velocity_6h'].describe()"
   ]
  },
  {
   "cell_type": "code",
   "execution_count": 136,
   "id": "95cb1dbe",
   "metadata": {},
   "outputs": [],
   "source": [
    "# Transform numerical attributes"
   ]
  },
  {
   "cell_type": "code",
   "execution_count": 137,
   "id": "bd9d7586",
   "metadata": {},
   "outputs": [],
   "source": [
    "# transform right skewed features: ['income', 'current_address_months_count', 'days_since_request', 'zip_count_4w',\n",
    "# 'velocity_6h', 'bank_branch_count_8w', 'date_of_birth_distinct_emails_4w','session_length_in_minutes']"
   ]
  },
  {
   "cell_type": "code",
   "execution_count": 138,
   "id": "b7caa75b",
   "metadata": {},
   "outputs": [
    {
     "data": {
      "text/plain": [
       "count    794989.000000\n",
       "mean       6278.453005\n",
       "std        3013.664048\n",
       "min          -0.456928\n",
       "25%        4101.401783\n",
       "50%        6091.190608\n",
       "75%        8243.534146\n",
       "max       16845.565404\n",
       "Name: velocity_6h, dtype: float64"
      ]
     },
     "execution_count": 138,
     "metadata": {},
     "output_type": "execute_result"
    }
   ],
   "source": [
    "# 'velocity_6h' has significant negative value like -130, some others have negative values as -1\n",
    "# so Shift and Logarithmic Transformation 'velocity_6h' by add a constant value 130\n",
    "X_train['velocity_6h'] = X_train['velocity_6h'] + 130\n",
    "X_train['velocity_6h'].describe()"
   ]
  },
  {
   "cell_type": "code",
   "execution_count": 139,
   "id": "10668955",
   "metadata": {},
   "outputs": [],
   "source": [
    "# instead of log, use log1p, which stands for log(x+1) \n",
    "columns_to_transform = ['income', 'current_address_months_count', 'days_since_request', 'zip_count_4w',\n",
    "                        'velocity_6h', 'bank_branch_count_8w', 'date_of_birth_distinct_emails_4w',\n",
    "                        'session_length_in_minutes']\n",
    "X_train[columns_to_transform] = np.log1p(X_train[columns_to_transform])"
   ]
  },
  {
   "cell_type": "code",
   "execution_count": 140,
   "id": "b80f08e6",
   "metadata": {},
   "outputs": [],
   "source": [
    "# X_train.isnull().sum()"
   ]
  },
  {
   "cell_type": "code",
   "execution_count": 141,
   "id": "128bd2dd",
   "metadata": {},
   "outputs": [],
   "source": [
    "# Standardization, because of time series, so scale data during cross-validation to prevent leakage"
   ]
  },
  {
   "cell_type": "code",
   "execution_count": 142,
   "id": "0621833e",
   "metadata": {},
   "outputs": [],
   "source": [
    "# X_train_num = X_train.select_dtypes(include = [np.number])\n",
    "# X_train_num.info()"
   ]
  },
  {
   "cell_type": "code",
   "execution_count": 143,
   "id": "6c87787e",
   "metadata": {},
   "outputs": [],
   "source": [
    "# std_scaler = StandardScaler()\n",
    "# X_train_num_std_scaler = std_scaler.fit_transform(X_train_num)"
   ]
  },
  {
   "cell_type": "code",
   "execution_count": 144,
   "id": "a58ac8dd",
   "metadata": {},
   "outputs": [],
   "source": [
    "# X_train.describe()"
   ]
  },
  {
   "cell_type": "code",
   "execution_count": 145,
   "id": "ab12bc49",
   "metadata": {},
   "outputs": [
    {
     "data": {
      "text/plain": [
       "(794989, 57)"
      ]
     },
     "execution_count": 145,
     "metadata": {},
     "output_type": "execute_result"
    }
   ],
   "source": [
    "# one-hot encoding categorical attributes\n",
    "# Create a new DataFrame with the encoded categorical column\n",
    "X_train_encoded = pd.get_dummies(X_train)\n",
    "X_train_encoded.shape"
   ]
  },
  {
   "cell_type": "code",
   "execution_count": 146,
   "id": "22c207b6",
   "metadata": {
    "scrolled": true
   },
   "outputs": [
    {
     "name": "stdout",
     "output_type": "stream",
     "text": [
      "Feature/label dataset for training before applying SMOTE:  (794989, 57) (794989,)\n",
      "Feature/label dataset for training after applying SMOTE:  (1573676, 57) (1573676,)\n",
      "Distribution of label values after applying SMOTE:\n",
      " 1    786838\n",
      "0    786838\n",
      "Name: fraud_bool, dtype: int64\n"
     ]
    }
   ],
   "source": [
    "# Oversampling Using SMOTE\n",
    "smote =SMOTE(random_state=0)\n",
    "X_train_smote, y_train_smote = smote.fit_resample(X_train_encoded, y_train)\n",
    "print('Feature/label dataset for training before applying SMOTE: ', X_train_encoded.shape, y_train.shape)\n",
    "print('Feature/label dataset for training after applying SMOTE: ', X_train_smote.shape, y_train_smote.shape)\n",
    "print('Distribution of label values after applying SMOTE:\\n',pd.Series(y_train_smote).value_counts())"
   ]
  },
  {
   "cell_type": "code",
   "execution_count": 147,
   "id": "37fa10cb",
   "metadata": {},
   "outputs": [],
   "source": [
    "# X_train_smote.info()"
   ]
  },
  {
   "cell_type": "code",
   "execution_count": 148,
   "id": "5e282dc3",
   "metadata": {},
   "outputs": [
    {
     "data": {
      "text/html": [
       "<div>\n",
       "<style scoped>\n",
       "    .dataframe tbody tr th:only-of-type {\n",
       "        vertical-align: middle;\n",
       "    }\n",
       "\n",
       "    .dataframe tbody tr th {\n",
       "        vertical-align: top;\n",
       "    }\n",
       "\n",
       "    .dataframe thead th {\n",
       "        text-align: right;\n",
       "    }\n",
       "</style>\n",
       "<table border=\"1\" class=\"dataframe\">\n",
       "  <thead>\n",
       "    <tr style=\"text-align: right;\">\n",
       "      <th></th>\n",
       "      <th>income</th>\n",
       "      <th>name_email_similarity</th>\n",
       "      <th>current_address_months_count</th>\n",
       "      <th>customer_age</th>\n",
       "      <th>days_since_request</th>\n",
       "      <th>zip_count_4w</th>\n",
       "      <th>velocity_6h</th>\n",
       "      <th>velocity_24h</th>\n",
       "      <th>velocity_4w</th>\n",
       "      <th>bank_branch_count_8w</th>\n",
       "      <th>date_of_birth_distinct_emails_4w</th>\n",
       "      <th>credit_risk_score</th>\n",
       "      <th>bank_months_count</th>\n",
       "      <th>proposed_credit_limit</th>\n",
       "      <th>session_length_in_minutes</th>\n",
       "      <th>month</th>\n",
       "    </tr>\n",
       "  </thead>\n",
       "  <tbody>\n",
       "    <tr>\n",
       "      <th>income</th>\n",
       "      <td>1.000000</td>\n",
       "      <td>-0.068475</td>\n",
       "      <td>0.037733</td>\n",
       "      <td>0.157972</td>\n",
       "      <td>-0.031571</td>\n",
       "      <td>-0.047536</td>\n",
       "      <td>-0.082840</td>\n",
       "      <td>-0.080052</td>\n",
       "      <td>-0.077734</td>\n",
       "      <td>-0.018908</td>\n",
       "      <td>-0.080154</td>\n",
       "      <td>0.241103</td>\n",
       "      <td>-0.007574</td>\n",
       "      <td>0.200717</td>\n",
       "      <td>-0.069629</td>\n",
       "      <td>0.064746</td>\n",
       "    </tr>\n",
       "    <tr>\n",
       "      <th>name_email_similarity</th>\n",
       "      <td>-0.068475</td>\n",
       "      <td>1.000000</td>\n",
       "      <td>-0.003270</td>\n",
       "      <td>-0.085073</td>\n",
       "      <td>-0.016031</td>\n",
       "      <td>0.008845</td>\n",
       "      <td>0.027728</td>\n",
       "      <td>0.039679</td>\n",
       "      <td>0.042800</td>\n",
       "      <td>0.006957</td>\n",
       "      <td>0.066775</td>\n",
       "      <td>0.016263</td>\n",
       "      <td>-0.027388</td>\n",
       "      <td>0.038955</td>\n",
       "      <td>0.018655</td>\n",
       "      <td>-0.037697</td>\n",
       "    </tr>\n",
       "    <tr>\n",
       "      <th>current_address_months_count</th>\n",
       "      <td>0.037733</td>\n",
       "      <td>-0.003270</td>\n",
       "      <td>1.000000</td>\n",
       "      <td>0.237089</td>\n",
       "      <td>-0.093444</td>\n",
       "      <td>0.062060</td>\n",
       "      <td>-0.013057</td>\n",
       "      <td>-0.025247</td>\n",
       "      <td>-0.038702</td>\n",
       "      <td>0.007447</td>\n",
       "      <td>-0.258247</td>\n",
       "      <td>0.182383</td>\n",
       "      <td>0.069960</td>\n",
       "      <td>0.186887</td>\n",
       "      <td>-0.046178</td>\n",
       "      <td>0.026148</td>\n",
       "    </tr>\n",
       "    <tr>\n",
       "      <th>customer_age</th>\n",
       "      <td>0.157972</td>\n",
       "      <td>-0.085073</td>\n",
       "      <td>0.237089</td>\n",
       "      <td>1.000000</td>\n",
       "      <td>-0.041992</td>\n",
       "      <td>-0.006591</td>\n",
       "      <td>-0.043671</td>\n",
       "      <td>-0.009768</td>\n",
       "      <td>-0.007520</td>\n",
       "      <td>0.000672</td>\n",
       "      <td>-0.551825</td>\n",
       "      <td>0.255398</td>\n",
       "      <td>0.024140</td>\n",
       "      <td>0.224185</td>\n",
       "      <td>0.041593</td>\n",
       "      <td>-0.015371</td>\n",
       "    </tr>\n",
       "    <tr>\n",
       "      <th>days_since_request</th>\n",
       "      <td>-0.031571</td>\n",
       "      <td>-0.016031</td>\n",
       "      <td>-0.093444</td>\n",
       "      <td>-0.041992</td>\n",
       "      <td>1.000000</td>\n",
       "      <td>-0.002020</td>\n",
       "      <td>0.064090</td>\n",
       "      <td>0.033455</td>\n",
       "      <td>0.025623</td>\n",
       "      <td>-0.064494</td>\n",
       "      <td>0.012005</td>\n",
       "      <td>-0.148330</td>\n",
       "      <td>0.035208</td>\n",
       "      <td>-0.117256</td>\n",
       "      <td>0.079581</td>\n",
       "      <td>-0.044102</td>\n",
       "    </tr>\n",
       "    <tr>\n",
       "      <th>zip_count_4w</th>\n",
       "      <td>-0.047536</td>\n",
       "      <td>0.008845</td>\n",
       "      <td>0.062060</td>\n",
       "      <td>-0.006591</td>\n",
       "      <td>-0.002020</td>\n",
       "      <td>1.000000</td>\n",
       "      <td>0.064489</td>\n",
       "      <td>0.117849</td>\n",
       "      <td>0.212247</td>\n",
       "      <td>0.009201</td>\n",
       "      <td>0.060313</td>\n",
       "      <td>-0.087482</td>\n",
       "      <td>0.048689</td>\n",
       "      <td>-0.033912</td>\n",
       "      <td>0.048725</td>\n",
       "      <td>-0.191800</td>\n",
       "    </tr>\n",
       "    <tr>\n",
       "      <th>velocity_6h</th>\n",
       "      <td>-0.082840</td>\n",
       "      <td>0.027728</td>\n",
       "      <td>-0.013057</td>\n",
       "      <td>-0.043671</td>\n",
       "      <td>0.064090</td>\n",
       "      <td>0.064489</td>\n",
       "      <td>1.000000</td>\n",
       "      <td>0.350198</td>\n",
       "      <td>0.286595</td>\n",
       "      <td>0.024100</td>\n",
       "      <td>0.065938</td>\n",
       "      <td>-0.177418</td>\n",
       "      <td>-0.011820</td>\n",
       "      <td>-0.104762</td>\n",
       "      <td>0.047205</td>\n",
       "      <td>-0.275994</td>\n",
       "    </tr>\n",
       "    <tr>\n",
       "      <th>velocity_24h</th>\n",
       "      <td>-0.080052</td>\n",
       "      <td>0.039679</td>\n",
       "      <td>-0.025247</td>\n",
       "      <td>-0.009768</td>\n",
       "      <td>0.033455</td>\n",
       "      <td>0.117849</td>\n",
       "      <td>0.350198</td>\n",
       "      <td>1.000000</td>\n",
       "      <td>0.398080</td>\n",
       "      <td>0.052537</td>\n",
       "      <td>0.052683</td>\n",
       "      <td>-0.141161</td>\n",
       "      <td>-0.029355</td>\n",
       "      <td>-0.030628</td>\n",
       "      <td>0.072939</td>\n",
       "      <td>-0.403194</td>\n",
       "    </tr>\n",
       "    <tr>\n",
       "      <th>velocity_4w</th>\n",
       "      <td>-0.077734</td>\n",
       "      <td>0.042800</td>\n",
       "      <td>-0.038702</td>\n",
       "      <td>-0.007520</td>\n",
       "      <td>0.025623</td>\n",
       "      <td>0.212247</td>\n",
       "      <td>0.286595</td>\n",
       "      <td>0.398080</td>\n",
       "      <td>1.000000</td>\n",
       "      <td>0.061417</td>\n",
       "      <td>0.121047</td>\n",
       "      <td>-0.155151</td>\n",
       "      <td>-0.011201</td>\n",
       "      <td>0.006340</td>\n",
       "      <td>0.102265</td>\n",
       "      <td>-0.792102</td>\n",
       "    </tr>\n",
       "    <tr>\n",
       "      <th>bank_branch_count_8w</th>\n",
       "      <td>-0.018908</td>\n",
       "      <td>0.006957</td>\n",
       "      <td>0.007447</td>\n",
       "      <td>0.000672</td>\n",
       "      <td>-0.064494</td>\n",
       "      <td>0.009201</td>\n",
       "      <td>0.024100</td>\n",
       "      <td>0.052537</td>\n",
       "      <td>0.061417</td>\n",
       "      <td>1.000000</td>\n",
       "      <td>0.028507</td>\n",
       "      <td>-0.069792</td>\n",
       "      <td>0.024132</td>\n",
       "      <td>-0.033048</td>\n",
       "      <td>0.002392</td>\n",
       "      <td>-0.055242</td>\n",
       "    </tr>\n",
       "    <tr>\n",
       "      <th>date_of_birth_distinct_emails_4w</th>\n",
       "      <td>-0.080154</td>\n",
       "      <td>0.066775</td>\n",
       "      <td>-0.258247</td>\n",
       "      <td>-0.551825</td>\n",
       "      <td>0.012005</td>\n",
       "      <td>0.060313</td>\n",
       "      <td>0.065938</td>\n",
       "      <td>0.052683</td>\n",
       "      <td>0.121047</td>\n",
       "      <td>0.028507</td>\n",
       "      <td>1.000000</td>\n",
       "      <td>-0.212320</td>\n",
       "      <td>-0.036422</td>\n",
       "      <td>-0.152165</td>\n",
       "      <td>-0.080248</td>\n",
       "      <td>-0.090876</td>\n",
       "    </tr>\n",
       "    <tr>\n",
       "      <th>credit_risk_score</th>\n",
       "      <td>0.241103</td>\n",
       "      <td>0.016263</td>\n",
       "      <td>0.182383</td>\n",
       "      <td>0.255398</td>\n",
       "      <td>-0.148330</td>\n",
       "      <td>-0.087482</td>\n",
       "      <td>-0.177418</td>\n",
       "      <td>-0.141161</td>\n",
       "      <td>-0.155151</td>\n",
       "      <td>-0.069792</td>\n",
       "      <td>-0.212320</td>\n",
       "      <td>1.000000</td>\n",
       "      <td>-0.033382</td>\n",
       "      <td>0.693778</td>\n",
       "      <td>-0.027771</td>\n",
       "      <td>0.142502</td>\n",
       "    </tr>\n",
       "    <tr>\n",
       "      <th>bank_months_count</th>\n",
       "      <td>-0.007574</td>\n",
       "      <td>-0.027388</td>\n",
       "      <td>0.069960</td>\n",
       "      <td>0.024140</td>\n",
       "      <td>0.035208</td>\n",
       "      <td>0.048689</td>\n",
       "      <td>-0.011820</td>\n",
       "      <td>-0.029355</td>\n",
       "      <td>-0.011201</td>\n",
       "      <td>0.024132</td>\n",
       "      <td>-0.036422</td>\n",
       "      <td>-0.033382</td>\n",
       "      <td>1.000000</td>\n",
       "      <td>-0.024877</td>\n",
       "      <td>0.028508</td>\n",
       "      <td>0.009782</td>\n",
       "    </tr>\n",
       "    <tr>\n",
       "      <th>proposed_credit_limit</th>\n",
       "      <td>0.200717</td>\n",
       "      <td>0.038955</td>\n",
       "      <td>0.186887</td>\n",
       "      <td>0.224185</td>\n",
       "      <td>-0.117256</td>\n",
       "      <td>-0.033912</td>\n",
       "      <td>-0.104762</td>\n",
       "      <td>-0.030628</td>\n",
       "      <td>0.006340</td>\n",
       "      <td>-0.033048</td>\n",
       "      <td>-0.152165</td>\n",
       "      <td>0.693778</td>\n",
       "      <td>-0.024877</td>\n",
       "      <td>1.000000</td>\n",
       "      <td>0.001069</td>\n",
       "      <td>-0.026502</td>\n",
       "    </tr>\n",
       "    <tr>\n",
       "      <th>session_length_in_minutes</th>\n",
       "      <td>-0.069629</td>\n",
       "      <td>0.018655</td>\n",
       "      <td>-0.046178</td>\n",
       "      <td>0.041593</td>\n",
       "      <td>0.079581</td>\n",
       "      <td>0.048725</td>\n",
       "      <td>0.047205</td>\n",
       "      <td>0.072939</td>\n",
       "      <td>0.102265</td>\n",
       "      <td>0.002392</td>\n",
       "      <td>-0.080248</td>\n",
       "      <td>-0.027771</td>\n",
       "      <td>0.028508</td>\n",
       "      <td>0.001069</td>\n",
       "      <td>1.000000</td>\n",
       "      <td>-0.113678</td>\n",
       "    </tr>\n",
       "    <tr>\n",
       "      <th>month</th>\n",
       "      <td>0.064746</td>\n",
       "      <td>-0.037697</td>\n",
       "      <td>0.026148</td>\n",
       "      <td>-0.015371</td>\n",
       "      <td>-0.044102</td>\n",
       "      <td>-0.191800</td>\n",
       "      <td>-0.275994</td>\n",
       "      <td>-0.403194</td>\n",
       "      <td>-0.792102</td>\n",
       "      <td>-0.055242</td>\n",
       "      <td>-0.090876</td>\n",
       "      <td>0.142502</td>\n",
       "      <td>0.009782</td>\n",
       "      <td>-0.026502</td>\n",
       "      <td>-0.113678</td>\n",
       "      <td>1.000000</td>\n",
       "    </tr>\n",
       "  </tbody>\n",
       "</table>\n",
       "</div>"
      ],
      "text/plain": [
       "                                    income  name_email_similarity  \\\n",
       "income                            1.000000              -0.068475   \n",
       "name_email_similarity            -0.068475               1.000000   \n",
       "current_address_months_count      0.037733              -0.003270   \n",
       "customer_age                      0.157972              -0.085073   \n",
       "days_since_request               -0.031571              -0.016031   \n",
       "zip_count_4w                     -0.047536               0.008845   \n",
       "velocity_6h                      -0.082840               0.027728   \n",
       "velocity_24h                     -0.080052               0.039679   \n",
       "velocity_4w                      -0.077734               0.042800   \n",
       "bank_branch_count_8w             -0.018908               0.006957   \n",
       "date_of_birth_distinct_emails_4w -0.080154               0.066775   \n",
       "credit_risk_score                 0.241103               0.016263   \n",
       "bank_months_count                -0.007574              -0.027388   \n",
       "proposed_credit_limit             0.200717               0.038955   \n",
       "session_length_in_minutes        -0.069629               0.018655   \n",
       "month                             0.064746              -0.037697   \n",
       "\n",
       "                                  current_address_months_count  customer_age  \\\n",
       "income                                                0.037733      0.157972   \n",
       "name_email_similarity                                -0.003270     -0.085073   \n",
       "current_address_months_count                          1.000000      0.237089   \n",
       "customer_age                                          0.237089      1.000000   \n",
       "days_since_request                                   -0.093444     -0.041992   \n",
       "zip_count_4w                                          0.062060     -0.006591   \n",
       "velocity_6h                                          -0.013057     -0.043671   \n",
       "velocity_24h                                         -0.025247     -0.009768   \n",
       "velocity_4w                                          -0.038702     -0.007520   \n",
       "bank_branch_count_8w                                  0.007447      0.000672   \n",
       "date_of_birth_distinct_emails_4w                     -0.258247     -0.551825   \n",
       "credit_risk_score                                     0.182383      0.255398   \n",
       "bank_months_count                                     0.069960      0.024140   \n",
       "proposed_credit_limit                                 0.186887      0.224185   \n",
       "session_length_in_minutes                            -0.046178      0.041593   \n",
       "month                                                 0.026148     -0.015371   \n",
       "\n",
       "                                  days_since_request  zip_count_4w  \\\n",
       "income                                     -0.031571     -0.047536   \n",
       "name_email_similarity                      -0.016031      0.008845   \n",
       "current_address_months_count               -0.093444      0.062060   \n",
       "customer_age                               -0.041992     -0.006591   \n",
       "days_since_request                          1.000000     -0.002020   \n",
       "zip_count_4w                               -0.002020      1.000000   \n",
       "velocity_6h                                 0.064090      0.064489   \n",
       "velocity_24h                                0.033455      0.117849   \n",
       "velocity_4w                                 0.025623      0.212247   \n",
       "bank_branch_count_8w                       -0.064494      0.009201   \n",
       "date_of_birth_distinct_emails_4w            0.012005      0.060313   \n",
       "credit_risk_score                          -0.148330     -0.087482   \n",
       "bank_months_count                           0.035208      0.048689   \n",
       "proposed_credit_limit                      -0.117256     -0.033912   \n",
       "session_length_in_minutes                   0.079581      0.048725   \n",
       "month                                      -0.044102     -0.191800   \n",
       "\n",
       "                                  velocity_6h  velocity_24h  velocity_4w  \\\n",
       "income                              -0.082840     -0.080052    -0.077734   \n",
       "name_email_similarity                0.027728      0.039679     0.042800   \n",
       "current_address_months_count        -0.013057     -0.025247    -0.038702   \n",
       "customer_age                        -0.043671     -0.009768    -0.007520   \n",
       "days_since_request                   0.064090      0.033455     0.025623   \n",
       "zip_count_4w                         0.064489      0.117849     0.212247   \n",
       "velocity_6h                          1.000000      0.350198     0.286595   \n",
       "velocity_24h                         0.350198      1.000000     0.398080   \n",
       "velocity_4w                          0.286595      0.398080     1.000000   \n",
       "bank_branch_count_8w                 0.024100      0.052537     0.061417   \n",
       "date_of_birth_distinct_emails_4w     0.065938      0.052683     0.121047   \n",
       "credit_risk_score                   -0.177418     -0.141161    -0.155151   \n",
       "bank_months_count                   -0.011820     -0.029355    -0.011201   \n",
       "proposed_credit_limit               -0.104762     -0.030628     0.006340   \n",
       "session_length_in_minutes            0.047205      0.072939     0.102265   \n",
       "month                               -0.275994     -0.403194    -0.792102   \n",
       "\n",
       "                                  bank_branch_count_8w  \\\n",
       "income                                       -0.018908   \n",
       "name_email_similarity                         0.006957   \n",
       "current_address_months_count                  0.007447   \n",
       "customer_age                                  0.000672   \n",
       "days_since_request                           -0.064494   \n",
       "zip_count_4w                                  0.009201   \n",
       "velocity_6h                                   0.024100   \n",
       "velocity_24h                                  0.052537   \n",
       "velocity_4w                                   0.061417   \n",
       "bank_branch_count_8w                          1.000000   \n",
       "date_of_birth_distinct_emails_4w              0.028507   \n",
       "credit_risk_score                            -0.069792   \n",
       "bank_months_count                             0.024132   \n",
       "proposed_credit_limit                        -0.033048   \n",
       "session_length_in_minutes                     0.002392   \n",
       "month                                        -0.055242   \n",
       "\n",
       "                                  date_of_birth_distinct_emails_4w  \\\n",
       "income                                                   -0.080154   \n",
       "name_email_similarity                                     0.066775   \n",
       "current_address_months_count                             -0.258247   \n",
       "customer_age                                             -0.551825   \n",
       "days_since_request                                        0.012005   \n",
       "zip_count_4w                                              0.060313   \n",
       "velocity_6h                                               0.065938   \n",
       "velocity_24h                                              0.052683   \n",
       "velocity_4w                                               0.121047   \n",
       "bank_branch_count_8w                                      0.028507   \n",
       "date_of_birth_distinct_emails_4w                          1.000000   \n",
       "credit_risk_score                                        -0.212320   \n",
       "bank_months_count                                        -0.036422   \n",
       "proposed_credit_limit                                    -0.152165   \n",
       "session_length_in_minutes                                -0.080248   \n",
       "month                                                    -0.090876   \n",
       "\n",
       "                                  credit_risk_score  bank_months_count  \\\n",
       "income                                     0.241103          -0.007574   \n",
       "name_email_similarity                      0.016263          -0.027388   \n",
       "current_address_months_count               0.182383           0.069960   \n",
       "customer_age                               0.255398           0.024140   \n",
       "days_since_request                        -0.148330           0.035208   \n",
       "zip_count_4w                              -0.087482           0.048689   \n",
       "velocity_6h                               -0.177418          -0.011820   \n",
       "velocity_24h                              -0.141161          -0.029355   \n",
       "velocity_4w                               -0.155151          -0.011201   \n",
       "bank_branch_count_8w                      -0.069792           0.024132   \n",
       "date_of_birth_distinct_emails_4w          -0.212320          -0.036422   \n",
       "credit_risk_score                          1.000000          -0.033382   \n",
       "bank_months_count                         -0.033382           1.000000   \n",
       "proposed_credit_limit                      0.693778          -0.024877   \n",
       "session_length_in_minutes                 -0.027771           0.028508   \n",
       "month                                      0.142502           0.009782   \n",
       "\n",
       "                                  proposed_credit_limit  \\\n",
       "income                                         0.200717   \n",
       "name_email_similarity                          0.038955   \n",
       "current_address_months_count                   0.186887   \n",
       "customer_age                                   0.224185   \n",
       "days_since_request                            -0.117256   \n",
       "zip_count_4w                                  -0.033912   \n",
       "velocity_6h                                   -0.104762   \n",
       "velocity_24h                                  -0.030628   \n",
       "velocity_4w                                    0.006340   \n",
       "bank_branch_count_8w                          -0.033048   \n",
       "date_of_birth_distinct_emails_4w              -0.152165   \n",
       "credit_risk_score                              0.693778   \n",
       "bank_months_count                             -0.024877   \n",
       "proposed_credit_limit                          1.000000   \n",
       "session_length_in_minutes                      0.001069   \n",
       "month                                         -0.026502   \n",
       "\n",
       "                                  session_length_in_minutes     month  \n",
       "income                                            -0.069629  0.064746  \n",
       "name_email_similarity                              0.018655 -0.037697  \n",
       "current_address_months_count                      -0.046178  0.026148  \n",
       "customer_age                                       0.041593 -0.015371  \n",
       "days_since_request                                 0.079581 -0.044102  \n",
       "zip_count_4w                                       0.048725 -0.191800  \n",
       "velocity_6h                                        0.047205 -0.275994  \n",
       "velocity_24h                                       0.072939 -0.403194  \n",
       "velocity_4w                                        0.102265 -0.792102  \n",
       "bank_branch_count_8w                               0.002392 -0.055242  \n",
       "date_of_birth_distinct_emails_4w                  -0.080248 -0.090876  \n",
       "credit_risk_score                                 -0.027771  0.142502  \n",
       "bank_months_count                                  0.028508  0.009782  \n",
       "proposed_credit_limit                              0.001069 -0.026502  \n",
       "session_length_in_minutes                          1.000000 -0.113678  \n",
       "month                                             -0.113678  1.000000  "
      ]
     },
     "execution_count": 148,
     "metadata": {},
     "output_type": "execute_result"
    }
   ],
   "source": [
    "# feature reduction\n",
    "# Select only the numerical attributes\n",
    "numerical_attributes = X_train_smote.select_dtypes(include=['int64', 'float64'])\n",
    "# Calculate correlation between numerical attributes\n",
    "corr_matrix = numerical_attributes.corr()\n",
    "corr_matrix"
   ]
  },
  {
   "cell_type": "code",
   "execution_count": 149,
   "id": "f4c822b0",
   "metadata": {},
   "outputs": [
    {
     "data": {
      "text/plain": [
       "-0.7921018166771735"
      ]
     },
     "execution_count": 149,
     "metadata": {},
     "output_type": "execute_result"
    }
   ],
   "source": [
    "X_train_smote['velocity_4w'].corr(X_train_smote['month'])"
   ]
  },
  {
   "cell_type": "code",
   "execution_count": 150,
   "id": "a8c16769",
   "metadata": {},
   "outputs": [],
   "source": [
    "# the correlation is about -0.8, highly negative correlated, so I drop attribute 'velocity_4w'\n",
    "X_train_smote = X_train_smote.drop(['velocity_4w'], axis=1, errors='ignore')"
   ]
  },
  {
   "cell_type": "code",
   "execution_count": 151,
   "id": "9ab780b5",
   "metadata": {},
   "outputs": [],
   "source": [
    "# print('Distribution of label values after applying SMOTE:\\n',pd.Series(y_train_smote).value_counts())"
   ]
  },
  {
   "cell_type": "code",
   "execution_count": 152,
   "id": "8872fef9",
   "metadata": {},
   "outputs": [],
   "source": [
    "# I want to sample about 20,000 for each class, so set k = 40, use 1-in-20 systematic sampling\n",
    "# apply sampling before performing time-series validation\n",
    "# sampling_ratio = 0.02542\n",
    "# n_samples = int(len(X_train_smote) * sampling_ratio)\n",
    "indices = list(range(0, len(X_train_smote), 20))\n",
    "X_train_sampled = X_train_smote.iloc[indices]\n",
    "y_train_sampled = y_train_smote.iloc[indices]"
   ]
  },
  {
   "cell_type": "code",
   "execution_count": 153,
   "id": "1079c1bd",
   "metadata": {},
   "outputs": [
    {
     "data": {
      "text/plain": [
       "78684"
      ]
     },
     "execution_count": 153,
     "metadata": {},
     "output_type": "execute_result"
    }
   ],
   "source": [
    "len(X_train_sampled)"
   ]
  },
  {
   "cell_type": "code",
   "execution_count": 154,
   "id": "01452c36",
   "metadata": {},
   "outputs": [],
   "source": [
    "# X_train_sampled.info()"
   ]
  },
  {
   "cell_type": "code",
   "execution_count": 155,
   "id": "e9a54e9d",
   "metadata": {},
   "outputs": [
    {
     "data": {
      "text/plain": [
       "1    39343\n",
       "0    39341\n",
       "Name: fraud_bool, dtype: int64"
      ]
     },
     "execution_count": 155,
     "metadata": {},
     "output_type": "execute_result"
    }
   ],
   "source": [
    "y_train_sampled.value_counts()"
   ]
  },
  {
   "cell_type": "markdown",
   "id": "2b6e1672",
   "metadata": {},
   "source": [
    "# Effectiveness"
   ]
  },
  {
   "cell_type": "code",
   "execution_count": 156,
   "id": "7d09d63b",
   "metadata": {
    "scrolled": true
   },
   "outputs": [
    {
     "name": "stdout",
     "output_type": "stream",
     "text": [
      "iteration:  0 \n",
      " [[6001  320]\n",
      " [ 401 7106]]\n",
      "iteration:  1 \n",
      " [[6563  226]\n",
      " [ 206 5567]]\n",
      "iteration:  2 \n",
      " [[7197  280]\n",
      " [ 338 7848]]\n",
      "iteration:  3 \n",
      " [[6121  191]\n",
      " [ 233 6252]]\n",
      "iteration:  4 \n",
      " [[5720  175]\n",
      " [ 168 3968]]\n",
      "\n",
      "Average precision:\n",
      "0.962312448386875\n",
      "\n",
      "Average recall:\n",
      "0.9586123611122387\n",
      "\n",
      "Average f1 score:\n",
      "0.9604516176180191\n",
      "\n",
      "Average roc_auc score:\n",
      "0.9611753588548051\n",
      "\n",
      "Average MCC:\n",
      "0.9220185538041665\n",
      "\n",
      "Average accuracy:\n",
      "[0.9658060013956734]\n"
     ]
    }
   ],
   "source": [
    "# Perform time-series validation by iterating over 'month' from 0 to 5\n",
    "temporal_column = \"month\"\n",
    "start_month = 0\n",
    "end_month = 5\n",
    "\n",
    "# Initialize 2 lists to store mcc and accuracy scores\n",
    "mcc_scores = []\n",
    "accuracy_scores = []\n",
    "# initial precision\n",
    "prc = 0  \n",
    "# initial recall\n",
    "rec = 0  \n",
    "# initial f1 score\n",
    "f1 = 0  \n",
    "# initial roc_auc\n",
    "roc_auc = 0  \n",
    "\n",
    "# Create a StandardScaler instance to do feature scaling in each iteration\n",
    "scaler = StandardScaler()\n",
    "\n",
    "# time series cross validation, split the data into training and test based on 'month'\n",
    "for i in range(start_month, end_month):\n",
    "    X_train_ts = X_train_sampled[X_train_sampled[temporal_column] <= i]\n",
    "    y_train_ts = y_train_sampled[X_train_sampled[temporal_column] <= i]\n",
    "    X_test_ts = X_train_sampled[X_train_sampled[temporal_column] == i + 1]\n",
    "    y_test_ts = y_train_sampled[X_train_sampled[temporal_column] == i + 1]\n",
    "\n",
    "    # Scale the cross-validation generated training and test data\n",
    "    X_train_ts_scaled = scaler.fit_transform(X_train_ts)\n",
    "    X_test_ts_scaled = scaler.transform(X_test_ts)\n",
    "\n",
    "    # FROM HERE, I APPLY THREE ML MODELS TO DO COMPARISON\n",
    "    # Train a logistic regression classifier using the scaled training data\n",
    "    clf = DecisionTreeClassifier(random_state=42)\n",
    "    clf.fit(X_train_ts_scaled, y_train_ts)\n",
    "\n",
    "    # Predict class labels for the scaled testing data\n",
    "    y_pred = clf.predict(X_test_ts_scaled)\n",
    "\n",
    "    # Calculate the confusion matrix\n",
    "    confusion = confusion_matrix(y_test_ts, y_pred)\n",
    "    print('iteration: ', i, '\\n', confusion)\n",
    "\n",
    "    # Calculate evaluation metrics\n",
    "    prc += precision_score(y_test_ts, y_pred)\n",
    "    rec += recall_score(y_test_ts, y_pred)\n",
    "    f1 += f1_score(y_test_ts, y_pred)\n",
    "    roc_auc += roc_auc_score(y_test_ts, y_pred)\n",
    "    # Calculate the Matthews Correlation Coefficient (MCC)\n",
    "    mcc = matthews_corrcoef(y_test_ts, y_pred)\n",
    "    mcc_scores.append(mcc)\n",
    "    # Calculate the accuracy scores\n",
    "    accuracy = accuracy_score(y_test_ts, y_pred)\n",
    "\n",
    "# Compute the average valuation matrics\n",
    "average_precision = prc / 5\n",
    "average_recall = rec / 5\n",
    "average_f1 = f1 / 5\n",
    "average_roc_auc = roc_auc / 5\n",
    "average_mcc = sum(mcc_scores) / 5\n",
    "accuracy_scores.append(accuracy)\n",
    "\n",
    "\n",
    "print(\"\\nAverage precision:\")\n",
    "print(average_precision)\n",
    "print(\"\\nAverage recall:\")\n",
    "print(average_recall)\n",
    "print(\"\\nAverage f1 score:\")\n",
    "print(average_f1)\n",
    "print(\"\\nAverage roc_auc score:\")\n",
    "print(average_roc_auc)\n",
    "print(\"\\nAverage MCC:\")\n",
    "print(average_mcc)\n",
    "print(\"\\nAverage accuracy:\")\n",
    "print(accuracy_scores)"
   ]
  },
  {
   "cell_type": "code",
   "execution_count": 157,
   "id": "f4ed66e0",
   "metadata": {},
   "outputs": [],
   "source": [
    "# Predict on the very beginning test data: month 6 and 7"
   ]
  },
  {
   "cell_type": "code",
   "execution_count": 158,
   "id": "01549efd",
   "metadata": {},
   "outputs": [],
   "source": [
    "X_test = X_test.drop(['prev_address_months_count'], axis=1, errors='ignore')\n",
    "X_test = X_test.drop(['intended_balcon_amount'], axis=1, errors='ignore')"
   ]
  },
  {
   "cell_type": "code",
   "execution_count": 159,
   "id": "9c98c2d0",
   "metadata": {},
   "outputs": [
    {
     "name": "stdout",
     "output_type": "stream",
     "text": [
      "60.0\n",
      "count    205011.000000\n",
      "mean         81.070840\n",
      "std          81.906621\n",
      "min           0.000000\n",
      "25%          16.000000\n",
      "50%          49.000000\n",
      "75%         124.000000\n",
      "max         428.000000\n",
      "Name: current_address_months_count, dtype: float64\n"
     ]
    }
   ],
   "source": [
    "# impute \"current_address_months_count\", -1 means a missing value\n",
    "median_value1_test = X_test[(X_test['current_address_months_count'] != -1) & (X_test['month'] == 6)]['current_address_months_count'].median()\n",
    "print(median_value1_test)\n",
    "# Replace -1 with the median\n",
    "X_test.loc[X_test['current_address_months_count'] == -1, 'current_address_months_count'] = median_value1_test\n",
    "print(X_test['current_address_months_count'].describe())"
   ]
  },
  {
   "cell_type": "code",
   "execution_count": 160,
   "id": "b69afd10",
   "metadata": {},
   "outputs": [
    {
     "name": "stdout",
     "output_type": "stream",
     "text": [
      "15.0\n",
      "count    205011.000000\n",
      "mean         14.752818\n",
      "std           9.903537\n",
      "min           1.000000\n",
      "25%           5.000000\n",
      "50%          15.000000\n",
      "75%          25.000000\n",
      "max          32.000000\n",
      "Name: bank_months_count, dtype: float64\n"
     ]
    }
   ],
   "source": [
    "# impute \"bank_months_count\", -1 means a missing value\n",
    "median_value2_test = X_test[(X_test['bank_months_count'] != -1) & (X_test['month'] == 6)]['bank_months_count'].median()\n",
    "print(median_value2_test)\n",
    "# Replace -1 with the median\n",
    "X_test.loc[df['bank_months_count'] == -1, 'bank_months_count'] = median_value2_test\n",
    "print(X_test['bank_months_count'].describe())"
   ]
  },
  {
   "cell_type": "code",
   "execution_count": 161,
   "id": "f7f12bad",
   "metadata": {},
   "outputs": [
    {
     "name": "stdout",
     "output_type": "stream",
     "text": [
      "1\n"
     ]
    },
    {
     "data": {
      "text/plain": [
       "count    205011.000000\n",
       "mean          1.009160\n",
       "std           0.131458\n",
       "min           0.000000\n",
       "25%           1.000000\n",
       "50%           1.000000\n",
       "75%           1.000000\n",
       "max           2.000000\n",
       "Name: device_distinct_emails_8w, dtype: float64"
      ]
     },
     "execution_count": 161,
     "metadata": {},
     "output_type": "execute_result"
    }
   ],
   "source": [
    "# impute \"device_distinct_emails_8w\", -1 means a missing value, 0.04% in total, because of categorical, so use mode\n",
    "mode_value1_test = X_test[(X_test['month'] == 6)]['device_distinct_emails_8w'].mode()[0]\n",
    "print(mode_value1_test)\n",
    "X_test['device_distinct_emails_8w'].replace(-1, mode_value1_test, inplace=True)\n",
    "X_test['device_distinct_emails_8w'].describe()"
   ]
  },
  {
   "cell_type": "code",
   "execution_count": 162,
   "id": "0c413d6f",
   "metadata": {},
   "outputs": [],
   "source": [
    "# convert wrong numerical data to categorical data\n",
    "convert_dtype2 = ['email_is_free', 'phone_home_valid', 'phone_mobile_valid', 'has_other_cards', 'foreign_request', \n",
    "                 'keep_alive_session','device_distinct_emails_8w']\n",
    "X_test[convert_dtype2] = X_test[convert_dtype2].astype('category')"
   ]
  },
  {
   "cell_type": "code",
   "execution_count": 163,
   "id": "d3c5eb47",
   "metadata": {},
   "outputs": [
    {
     "data": {
      "text/plain": [
       "count    205011.000000\n",
       "mean       3791.718974\n",
       "std        2130.921646\n",
       "min        -170.603072\n",
       "25%        2306.429463\n",
       "50%        3609.343942\n",
       "75%        4812.595460\n",
       "max       16356.364000\n",
       "Name: velocity_6h, dtype: float64"
      ]
     },
     "execution_count": 163,
     "metadata": {},
     "output_type": "execute_result"
    }
   ],
   "source": [
    "X_test['velocity_6h'].describe()"
   ]
  },
  {
   "cell_type": "code",
   "execution_count": 164,
   "id": "33b0238d",
   "metadata": {},
   "outputs": [
    {
     "data": {
      "text/plain": [
       "count    205011.000000\n",
       "mean       3961.718974\n",
       "std        2130.921646\n",
       "min          -0.603072\n",
       "25%        2476.429463\n",
       "50%        3779.343942\n",
       "75%        4982.595460\n",
       "max       16526.364000\n",
       "Name: velocity_6h, dtype: float64"
      ]
     },
     "execution_count": 164,
     "metadata": {},
     "output_type": "execute_result"
    }
   ],
   "source": [
    "X_test['velocity_6h'] = X_test['velocity_6h'] + 170\n",
    "X_test['velocity_6h'].describe()"
   ]
  },
  {
   "cell_type": "code",
   "execution_count": 165,
   "id": "b18262f7",
   "metadata": {},
   "outputs": [
    {
     "data": {
      "text/plain": [
       "count    205011.000000\n",
       "mean          6.824736\n",
       "std           7.417399\n",
       "min          -1.000000\n",
       "25%           2.523108\n",
       "50%           4.651072\n",
       "75%           8.328739\n",
       "max          83.376775\n",
       "Name: session_length_in_minutes, dtype: float64"
      ]
     },
     "execution_count": 165,
     "metadata": {},
     "output_type": "execute_result"
    }
   ],
   "source": [
    "X_test['session_length_in_minutes'].describe()"
   ]
  },
  {
   "cell_type": "code",
   "execution_count": 166,
   "id": "ab291683",
   "metadata": {},
   "outputs": [
    {
     "name": "stdout",
     "output_type": "stream",
     "text": [
      "4.98\n",
      "count    205011.000000\n",
      "mean          6.839388\n",
      "std           7.407832\n",
      "min           0.000872\n",
      "25%           2.546404\n",
      "50%           4.670989\n",
      "75%           8.328739\n",
      "max          83.376775\n",
      "Name: session_length_in_minutes, dtype: float64\n"
     ]
    }
   ],
   "source": [
    "# impute \"session_length_in_minutes\", -1 means a missing value\n",
    "median_value3_test = X_test[(X_test['session_length_in_minutes'] != -1) & (X_test['month'] == 6)]['session_length_in_minutes'].median()\n",
    "print(round(median_value3_test,2))\n",
    "# Replace -1 with the median\n",
    "X_test.loc[X_test['session_length_in_minutes'] == -1, 'session_length_in_minutes'] = median_value3_test\n",
    "print(X_test['session_length_in_minutes'].describe())"
   ]
  },
  {
   "cell_type": "code",
   "execution_count": 167,
   "id": "e8eb68bc",
   "metadata": {},
   "outputs": [],
   "source": [
    "# instead of log, use log1p, which stands for log(x+1) \n",
    "columns_to_transform2 = ['income', 'current_address_months_count', 'days_since_request', 'zip_count_4w',\n",
    "                        'velocity_6h', 'bank_branch_count_8w', 'date_of_birth_distinct_emails_4w',\n",
    "                        'session_length_in_minutes']\n",
    "X_test[columns_to_transform2] = np.log1p(X_test[columns_to_transform2])"
   ]
  },
  {
   "cell_type": "code",
   "execution_count": 168,
   "id": "4dc9f192",
   "metadata": {},
   "outputs": [],
   "source": [
    "# X_test.isnull().sum()"
   ]
  },
  {
   "cell_type": "code",
   "execution_count": 169,
   "id": "80be7ec5",
   "metadata": {},
   "outputs": [
    {
     "data": {
      "text/plain": [
       "(205011, 57)"
      ]
     },
     "execution_count": 169,
     "metadata": {},
     "output_type": "execute_result"
    }
   ],
   "source": [
    "X_test_encoded = pd.get_dummies(X_test)\n",
    "X_test_encoded.shape"
   ]
  },
  {
   "cell_type": "code",
   "execution_count": 170,
   "id": "34b5c882",
   "metadata": {},
   "outputs": [],
   "source": [
    "X_test_encoded = X_test_encoded.drop(['velocity_4w'], axis=1, errors='ignore')"
   ]
  },
  {
   "cell_type": "code",
   "execution_count": 171,
   "id": "f7959687",
   "metadata": {},
   "outputs": [],
   "source": [
    "X_test_scaled = scaler.transform(X_test_encoded)"
   ]
  },
  {
   "cell_type": "code",
   "execution_count": 173,
   "id": "b8e76e0e",
   "metadata": {},
   "outputs": [],
   "source": [
    "y_pred_final = clf.predict(X_test_scaled)"
   ]
  },
  {
   "cell_type": "code",
   "execution_count": 174,
   "id": "ce2e1027",
   "metadata": {},
   "outputs": [
    {
     "data": {
      "text/plain": [
       "array([[193988,   8145],\n",
       "       [  2388,    490]], dtype=int64)"
      ]
     },
     "execution_count": 174,
     "metadata": {},
     "output_type": "execute_result"
    }
   ],
   "source": [
    "confusion = confusion_matrix(y_test, y_pred_final)\n",
    "confusion"
   ]
  },
  {
   "cell_type": "code",
   "execution_count": 175,
   "id": "b1153cea",
   "metadata": {},
   "outputs": [
    {
     "name": "stdout",
     "output_type": "stream",
     "text": [
      "final precision:\n",
      "0.056745801968731906\n",
      "\n",
      "final recall:\n",
      "0.1702571230020848\n",
      "\n",
      "final f1 score:\n",
      "0.08512116737600972\n",
      "\n",
      "final roc_auc score:\n",
      "0.5649809359277812\n",
      "\n",
      "final MCC:\n",
      "0.0761210180268539\n",
      "\n",
      "final accuracy:\n",
      "0.9486222690489778\n"
     ]
    }
   ],
   "source": [
    "prc_final = precision_score(y_test, y_pred_final)\n",
    "rec_final = recall_score(y_test, y_pred_final)\n",
    "f1_final = f1_score(y_test, y_pred_final)\n",
    "roc_auc_final = roc_auc_score(y_test, y_pred_final)\n",
    "mcc_final = matthews_corrcoef(y_test, y_pred_final)\n",
    "accuracy_final = accuracy_score(y_test, y_pred_final)\n",
    "print(\"final precision:\")\n",
    "print(prc_final)\n",
    "print(\"\\nfinal recall:\")\n",
    "print(rec_final)\n",
    "print(\"\\nfinal f1 score:\")\n",
    "print(f1_final)\n",
    "print(\"\\nfinal roc_auc score:\")\n",
    "print(roc_auc_final)\n",
    "print(\"\\nfinal MCC:\")\n",
    "print(mcc_final)\n",
    "print(\"\\nfinal accuracy:\")\n",
    "print(accuracy_final)"
   ]
  },
  {
   "cell_type": "code",
   "execution_count": null,
   "id": "096872b6",
   "metadata": {},
   "outputs": [],
   "source": []
  },
  {
   "cell_type": "code",
   "execution_count": null,
   "id": "7fafb4a2",
   "metadata": {},
   "outputs": [],
   "source": []
  },
  {
   "cell_type": "code",
   "execution_count": null,
   "id": "cbc238c9",
   "metadata": {},
   "outputs": [],
   "source": []
  },
  {
   "cell_type": "code",
   "execution_count": null,
   "id": "f696cafa",
   "metadata": {},
   "outputs": [],
   "source": []
  },
  {
   "cell_type": "code",
   "execution_count": null,
   "id": "b23a96cc",
   "metadata": {},
   "outputs": [],
   "source": []
  },
  {
   "cell_type": "code",
   "execution_count": null,
   "id": "c5422ebf",
   "metadata": {},
   "outputs": [],
   "source": []
  },
  {
   "cell_type": "markdown",
   "id": "9362e5b0",
   "metadata": {},
   "source": [
    "# Efficiency"
   ]
  },
  {
   "cell_type": "code",
   "execution_count": 176,
   "id": "06f6f417",
   "metadata": {},
   "outputs": [
    {
     "name": "stdout",
     "output_type": "stream",
     "text": [
      "iteration:  0 \n",
      " [[6001  320]\n",
      " [ 401 7106]]\n",
      "iteration:  1 \n",
      " [[6563  226]\n",
      " [ 206 5567]]\n",
      "iteration:  2 \n",
      " [[7197  280]\n",
      " [ 338 7848]]\n",
      "iteration:  3 \n",
      " [[6121  191]\n",
      " [ 233 6252]]\n",
      "iteration:  4 \n",
      " [[5720  175]\n",
      " [ 168 3968]]\n",
      "Execution Time: 4.209928750991821\n"
     ]
    }
   ],
   "source": [
    "# time\n",
    "start_time = time.time()\n",
    "temporal_column = \"month\"\n",
    "start_month = 0\n",
    "end_month = 5\n",
    "\n",
    "# Initialize 2 lists to store mcc and accuracy scores\n",
    "mcc_scores = []\n",
    "accuracy_scores = []\n",
    "# initial precision\n",
    "prc = 0  \n",
    "# initial recall\n",
    "rec = 0  \n",
    "# initial f1 score\n",
    "f1 = 0  \n",
    "# initial roc_auc\n",
    "roc_auc = 0  \n",
    "\n",
    "# Create a StandardScaler instance to do feature scaling in each iteration\n",
    "scaler = StandardScaler()\n",
    "\n",
    "# time series cross validation, split the data into training and test based on 'month'\n",
    "for i in range(start_month, end_month):\n",
    "    X_train_ts = X_train_sampled[X_train_sampled[temporal_column] <= i]\n",
    "    y_train_ts = y_train_sampled[X_train_sampled[temporal_column] <= i]\n",
    "    X_test_ts = X_train_sampled[X_train_sampled[temporal_column] == i + 1]\n",
    "    y_test_ts = y_train_sampled[X_train_sampled[temporal_column] == i + 1]\n",
    "\n",
    "    # Scale the cross-validation generated training and test data\n",
    "    X_train_ts_scaled = scaler.fit_transform(X_train_ts)\n",
    "    X_test_ts_scaled = scaler.transform(X_test_ts)\n",
    "\n",
    "    # FROM HERE, I APPLY THREE ML MODELS TO DO COMPARISON\n",
    "    # Train a logistic regression classifier using the scaled training data\n",
    "    clf = DecisionTreeClassifier(random_state=42)\n",
    "    clf.fit(X_train_ts_scaled, y_train_ts)\n",
    "\n",
    "    # Predict class labels for the scaled testing data\n",
    "    y_pred = clf.predict(X_test_ts_scaled)\n",
    "\n",
    "    # Calculate the confusion matrix\n",
    "    confusion = confusion_matrix(y_test_ts, y_pred)\n",
    "    print('iteration: ', i, '\\n', confusion)\n",
    "\n",
    "    # Calculate evaluation metrics\n",
    "    prc += precision_score(y_test_ts, y_pred)\n",
    "    rec += recall_score(y_test_ts, y_pred)\n",
    "    f1 += f1_score(y_test_ts, y_pred)\n",
    "    roc_auc += roc_auc_score(y_test_ts, y_pred)\n",
    "    # Calculate the Matthews Correlation Coefficient (MCC)\n",
    "    mcc = matthews_corrcoef(y_test_ts, y_pred)\n",
    "    mcc_scores.append(mcc)\n",
    "    # Calculate the accuracy scores\n",
    "    accuracy = accuracy_score(y_test_ts, y_pred)\n",
    "\n",
    "# Compute the average valuation matrics\n",
    "average_precision = prc / 5\n",
    "average_recall = rec / 5\n",
    "average_f1 = f1 / 5\n",
    "average_roc_auc = roc_auc / 5\n",
    "average_mcc = sum(mcc_scores) / 5\n",
    "accuracy_scores.append(accuracy)\n",
    "\n",
    "end_time = time.time()\n",
    "execution_time = end_time - start_time\n",
    "print(\"Execution Time:\", execution_time)"
   ]
  },
  {
   "cell_type": "markdown",
   "id": "198e93af",
   "metadata": {},
   "source": [
    "# Stability"
   ]
  },
  {
   "cell_type": "code",
   "execution_count": 179,
   "id": "29eea177",
   "metadata": {},
   "outputs": [
    {
     "name": "stdout",
     "output_type": "stream",
     "text": [
      "iteration:  0 \n",
      " [[6004  317]\n",
      " [ 408 7099]]\n",
      "iteration:  1 \n",
      " [[6572  217]\n",
      " [ 216 5557]]\n",
      "iteration:  2 \n",
      " [[7181  296]\n",
      " [ 333 7853]]\n",
      "iteration:  3 \n",
      " [[6107  205]\n",
      " [ 220 6265]]\n",
      "iteration:  4 \n",
      " [[5746  149]\n",
      " [ 167 3969]]\n",
      "\n",
      "Average precision:\n",
      "0.9630963065107085\n",
      "\n",
      "Average recall:\n",
      "0.958650869076131\n",
      "\n",
      "Average f1 score:\n",
      "0.9608643496823281\n",
      "\n",
      "Average roc_auc score:\n",
      "0.9613799034942152\n",
      "\n",
      "Average MCC:\n",
      "0.9226495846056298\n",
      "\n",
      "Average accuracy:\n",
      "[0.9684976572624863]\n"
     ]
    }
   ],
   "source": [
    "# seed = 420\n",
    "temporal_column = \"month\"\n",
    "start_month = 0\n",
    "end_month = 5\n",
    "\n",
    "# Initialize 2 lists to store mcc and accuracy scores\n",
    "mcc_scores = []\n",
    "accuracy_scores = []\n",
    "# initial precision\n",
    "prc = 0  \n",
    "# initial recall\n",
    "rec = 0  \n",
    "# initial f1 score\n",
    "f1 = 0  \n",
    "# initial roc_auc\n",
    "roc_auc = 0  \n",
    "\n",
    "# Create a StandardScaler instance to do feature scaling in each iteration\n",
    "scaler = StandardScaler()\n",
    "\n",
    "# time series cross validation, split the data into training and test based on 'month'\n",
    "for i in range(start_month, end_month):\n",
    "    X_train_ts = X_train_sampled[X_train_sampled[temporal_column] <= i]\n",
    "    y_train_ts = y_train_sampled[X_train_sampled[temporal_column] <= i]\n",
    "    X_test_ts = X_train_sampled[X_train_sampled[temporal_column] == i + 1]\n",
    "    y_test_ts = y_train_sampled[X_train_sampled[temporal_column] == i + 1]\n",
    "\n",
    "    # Scale the cross-validation generated training and test data\n",
    "    X_train_ts_scaled = scaler.fit_transform(X_train_ts)\n",
    "    X_test_ts_scaled = scaler.transform(X_test_ts)\n",
    "\n",
    "    # FROM HERE, I APPLY THREE ML MODELS TO DO COMPARISON\n",
    "    # Train a logistic regression classifier using the scaled training data\n",
    "    clf = DecisionTreeClassifier(random_state=420)\n",
    "    clf.fit(X_train_ts_scaled, y_train_ts)\n",
    "\n",
    "    # Predict class labels for the scaled testing data\n",
    "    y_pred = clf.predict(X_test_ts_scaled)\n",
    "\n",
    "    # Calculate the confusion matrix\n",
    "    confusion = confusion_matrix(y_test_ts, y_pred)\n",
    "    print('iteration: ', i, '\\n', confusion)\n",
    "\n",
    "    # Calculate evaluation metrics\n",
    "    prc += precision_score(y_test_ts, y_pred)\n",
    "    rec += recall_score(y_test_ts, y_pred)\n",
    "    f1 += f1_score(y_test_ts, y_pred)\n",
    "    roc_auc += roc_auc_score(y_test_ts, y_pred)\n",
    "    # Calculate the Matthews Correlation Coefficient (MCC)\n",
    "    mcc = matthews_corrcoef(y_test_ts, y_pred)\n",
    "    mcc_scores.append(mcc)\n",
    "    # Calculate the accuracy scores\n",
    "    accuracy = accuracy_score(y_test_ts, y_pred)\n",
    "\n",
    "# Compute the average valuation matrics\n",
    "average_precision = prc / 5\n",
    "average_recall = rec / 5\n",
    "average_f1 = f1 / 5\n",
    "average_roc_auc = roc_auc / 5\n",
    "average_mcc = sum(mcc_scores) / 5\n",
    "accuracy_scores.append(accuracy)\n",
    "\n",
    "\n",
    "print(\"\\nAverage precision:\")\n",
    "print(average_precision)\n",
    "print(\"\\nAverage recall:\")\n",
    "print(average_recall)\n",
    "print(\"\\nAverage f1 score:\")\n",
    "print(average_f1)\n",
    "print(\"\\nAverage roc_auc score:\")\n",
    "print(average_roc_auc)\n",
    "print(\"\\nAverage MCC:\")\n",
    "print(average_mcc)\n",
    "print(\"\\nAverage accuracy:\")\n",
    "print(accuracy_scores)"
   ]
  },
  {
   "cell_type": "code",
   "execution_count": 180,
   "id": "70f91dd9",
   "metadata": {},
   "outputs": [
    {
     "name": "stdout",
     "output_type": "stream",
     "text": [
      "iteration:  0 \n",
      " [[5989  332]\n",
      " [ 417 7090]]\n",
      "iteration:  1 \n",
      " [[6567  222]\n",
      " [ 214 5559]]\n",
      "iteration:  2 \n",
      " [[7182  295]\n",
      " [ 328 7858]]\n",
      "iteration:  3 \n",
      " [[6118  194]\n",
      " [ 228 6257]]\n",
      "iteration:  4 \n",
      " [[5730  165]\n",
      " [ 169 3967]]\n",
      "\n",
      "Average precision:\n",
      "0.9621356735876828\n",
      "\n",
      "Average recall:\n",
      "0.9582591057111476\n",
      "\n",
      "Average f1 score:\n",
      "0.9601889727961194\n",
      "\n",
      "Average roc_auc score:\n",
      "0.960789298161367\n",
      "\n",
      "Average MCC:\n",
      "0.9213664264307964\n",
      "\n",
      "Average accuracy:\n",
      "[0.9667032200179444]\n"
     ]
    }
   ],
   "source": [
    "# seed = 4200\n",
    "temporal_column = \"month\"\n",
    "start_month = 0\n",
    "end_month = 5\n",
    "\n",
    "# Initialize 2 lists to store mcc and accuracy scores\n",
    "mcc_scores = []\n",
    "accuracy_scores = []\n",
    "# initial precision\n",
    "prc = 0  \n",
    "# initial recall\n",
    "rec = 0  \n",
    "# initial f1 score\n",
    "f1 = 0  \n",
    "# initial roc_auc\n",
    "roc_auc = 0  \n",
    "\n",
    "# Create a StandardScaler instance to do feature scaling in each iteration\n",
    "scaler = StandardScaler()\n",
    "\n",
    "# time series cross validation, split the data into training and test based on 'month'\n",
    "for i in range(start_month, end_month):\n",
    "    X_train_ts = X_train_sampled[X_train_sampled[temporal_column] <= i]\n",
    "    y_train_ts = y_train_sampled[X_train_sampled[temporal_column] <= i]\n",
    "    X_test_ts = X_train_sampled[X_train_sampled[temporal_column] == i + 1]\n",
    "    y_test_ts = y_train_sampled[X_train_sampled[temporal_column] == i + 1]\n",
    "\n",
    "    # Scale the cross-validation generated training and test data\n",
    "    X_train_ts_scaled = scaler.fit_transform(X_train_ts)\n",
    "    X_test_ts_scaled = scaler.transform(X_test_ts)\n",
    "\n",
    "    # FROM HERE, I APPLY THREE ML MODELS TO DO COMPARISON\n",
    "    # Train a logistic regression classifier using the scaled training data\n",
    "    clf = DecisionTreeClassifier(random_state=4200)\n",
    "    clf.fit(X_train_ts_scaled, y_train_ts)\n",
    "\n",
    "    # Predict class labels for the scaled testing data\n",
    "    y_pred = clf.predict(X_test_ts_scaled)\n",
    "\n",
    "    # Calculate the confusion matrix\n",
    "    confusion = confusion_matrix(y_test_ts, y_pred)\n",
    "    print('iteration: ', i, '\\n', confusion)\n",
    "\n",
    "    # Calculate evaluation metrics\n",
    "    prc += precision_score(y_test_ts, y_pred)\n",
    "    rec += recall_score(y_test_ts, y_pred)\n",
    "    f1 += f1_score(y_test_ts, y_pred)\n",
    "    roc_auc += roc_auc_score(y_test_ts, y_pred)\n",
    "    # Calculate the Matthews Correlation Coefficient (MCC)\n",
    "    mcc = matthews_corrcoef(y_test_ts, y_pred)\n",
    "    mcc_scores.append(mcc)\n",
    "    # Calculate the accuracy scores\n",
    "    accuracy = accuracy_score(y_test_ts, y_pred)\n",
    "\n",
    "# Compute the average valuation matrics\n",
    "average_precision = prc / 5\n",
    "average_recall = rec / 5\n",
    "average_f1 = f1 / 5\n",
    "average_roc_auc = roc_auc / 5\n",
    "average_mcc = sum(mcc_scores) / 5\n",
    "accuracy_scores.append(accuracy)\n",
    "\n",
    "\n",
    "print(\"\\nAverage precision:\")\n",
    "print(average_precision)\n",
    "print(\"\\nAverage recall:\")\n",
    "print(average_recall)\n",
    "print(\"\\nAverage f1 score:\")\n",
    "print(average_f1)\n",
    "print(\"\\nAverage roc_auc score:\")\n",
    "print(average_roc_auc)\n",
    "print(\"\\nAverage MCC:\")\n",
    "print(average_mcc)\n",
    "print(\"\\nAverage accuracy:\")\n",
    "print(accuracy_scores)"
   ]
  }
 ],
 "metadata": {
  "kernelspec": {
   "display_name": "Python 3 (ipykernel)",
   "language": "python",
   "name": "python3"
  },
  "language_info": {
   "codemirror_mode": {
    "name": "ipython",
    "version": 3
   },
   "file_extension": ".py",
   "mimetype": "text/x-python",
   "name": "python",
   "nbconvert_exporter": "python",
   "pygments_lexer": "ipython3",
   "version": "3.11.2"
  }
 },
 "nbformat": 4,
 "nbformat_minor": 5
}
